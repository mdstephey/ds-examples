{
 "cells": [
  {
   "cell_type": "markdown",
   "metadata": {},
   "source": [
    "### Complete Case Analysis (CCA)"
   ]
  },
  {
   "cell_type": "markdown",
   "metadata": {},
   "source": [
    "This method will discard any observation where the values are missing."
   ]
  },
  {
   "cell_type": "code",
   "execution_count": 1,
   "metadata": {},
   "outputs": [],
   "source": [
    "# Importing the required libraries\n",
    "from xgboost import XGBClassifier, plot_importance\n",
    "from xgboost import XGBRegressor\n",
    "import pandas as pd\n",
    "import numpy as np\n",
    "import os\n",
    "import matplotlib\n",
    "import matplotlib.pyplot as plt"
   ]
  },
  {
   "cell_type": "code",
   "execution_count": 2,
   "metadata": {},
   "outputs": [],
   "source": [
    "os.chdir('C:\\\\Users\\\\MStephey\\Desktop\\\\Supply Chain\\\\Business Intelligence\\\\Python')\n",
    "data = pd.read_csv('melb_data.csv')"
   ]
  },
  {
   "cell_type": "code",
   "execution_count": 5,
   "metadata": {},
   "outputs": [
    {
     "data": {
      "text/plain": [
       "BuildingArea     0.474963\n",
       "YearBuilt        0.395803\n",
       "CouncilArea      0.100810\n",
       "Car              0.004566\n",
       "Suburb           0.000000\n",
       "Bathroom         0.000000\n",
       "Regionname       0.000000\n",
       "Longtitude       0.000000\n",
       "Lattitude        0.000000\n",
       "Landsize         0.000000\n",
       "Bedroom2         0.000000\n",
       "Address          0.000000\n",
       "Postcode         0.000000\n",
       "Distance         0.000000\n",
       "Date             0.000000\n",
       "SellerG          0.000000\n",
       "Method           0.000000\n",
       "Price            0.000000\n",
       "Type             0.000000\n",
       "Rooms            0.000000\n",
       "Propertycount    0.000000\n",
       "dtype: float64"
      ]
     },
     "execution_count": 5,
     "metadata": {},
     "output_type": "execute_result"
    }
   ],
   "source": [
    "# Calculating the percentage of missing data\n",
    "data.isnull().mean().sort_values(ascending=False)"
   ]
  },
  {
   "cell_type": "code",
   "execution_count": 6,
   "metadata": {},
   "outputs": [],
   "source": [
    "data_cca = data.dropna()"
   ]
  },
  {
   "cell_type": "code",
   "execution_count": 16,
   "metadata": {},
   "outputs": [
    {
     "name": "stdout",
     "output_type": "stream",
     "text": [
      "Number of total observations: 13580\n",
      "Number of observations with complete cases: 6196\n",
      "Percent of observations with complete cases: 0.45625920471281295\n"
     ]
    }
   ],
   "source": [
    "# Comparing the original data to the complete case\n",
    "print('Number of total observations: {}'.format(len(data)))\n",
    "print('Number of observations with complete cases: {}'.format(len(data_cca)))\n",
    "print('Percent of observations with complete cases: {}'.format(len(data_cca)/len(data)))"
   ]
  }
 ],
 "metadata": {
  "kernelspec": {
   "display_name": "Python 3.9.7 ('base')",
   "language": "python",
   "name": "python3"
  },
  "language_info": {
   "codemirror_mode": {
    "name": "ipython",
    "version": 3
   },
   "file_extension": ".py",
   "mimetype": "text/x-python",
   "name": "python",
   "nbconvert_exporter": "python",
   "pygments_lexer": "ipython3",
   "version": "3.9.7"
  },
  "orig_nbformat": 4,
  "vscode": {
   "interpreter": {
    "hash": "8cb5ab5f98dfdf661ae432d212ff49f4b16a2905e065ba1cb0704722daee5291"
   }
  }
 },
 "nbformat": 4,
 "nbformat_minor": 2
}
